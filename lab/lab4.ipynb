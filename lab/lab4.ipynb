{
 "cells": [
  {
   "attachments": {},
   "cell_type": "markdown",
   "id": "beb550f5",
   "metadata": {},
   "source": [
    "# Lab 4\n",
    "\n",
    "[![image](https://colab.research.google.com/assets/colab-badge.svg)](https://colab.research.google.com/github/ChangwhaOh/GEOG510/blob/main/lab/lab4.ipynb)\n",
    "\n",
    "## Submission instructions\n",
    "\n",
    "1. Download the notebook from https://geosdemo.gishub.org/labs/lab4\n",
    "2. Complete the lab questions\n",
    "3. Restart Kernel and Run All Cells\n",
    "4. Upload the notebook to your GitHub repository\n",
    "5. Make sure the notebook has an `Open In Colab` badge. Click on the badge to make sure your notebook can be opened in Colab.\n",
    "6. Submit the link to the notebook on your GitHub repository to Canvas"
   ]
  },
  {
   "cell_type": "code",
   "execution_count": 1,
   "id": "bfc1ddc5",
   "metadata": {},
   "outputs": [
    {
     "name": "stdout",
     "output_type": "stream",
     "text": [
      "Submitted time: 2023-03-05 19:58:37.452259\n"
     ]
    }
   ],
   "source": [
    "from datetime import datetime\n",
    "\n",
    "now = datetime.now()\n",
    "print(f\"Submitted time: {now}\")"
   ]
  },
  {
   "cell_type": "markdown",
   "id": "7e96934a",
   "metadata": {},
   "source": [
    "## Question 1\n",
    "\n",
    "**Personal Message:** Use a variable to represent a person’s name, and print a message to that person. Your message should be simple, such as, “Hello Eric, would you like to learn some Python today?”"
   ]
  },
  {
   "cell_type": "code",
   "execution_count": 2,
   "id": "063a8cb4",
   "metadata": {},
   "outputs": [
    {
     "name": "stdout",
     "output_type": "stream",
     "text": [
      "Hello Haerin, how are you today?\n"
     ]
    }
   ],
   "source": [
    "name = 'Haerin'\n",
    "print(f'Hello {name}, how are you today?')"
   ]
  },
  {
   "cell_type": "markdown",
   "id": "83c4c9e9",
   "metadata": {},
   "source": [
    "## Question 2\n",
    "\n",
    "**Name Cases:** Use a variable to represent a person’s name, and then print that person’s name in lowercase, uppercase, and title case."
   ]
  },
  {
   "cell_type": "code",
   "execution_count": 3,
   "id": "35cfbbec",
   "metadata": {},
   "outputs": [
    {
     "name": "stdout",
     "output_type": "stream",
     "text": [
      "haerin\n",
      "HAERIN\n",
      "Haerin\n"
     ]
    }
   ],
   "source": [
    "print(name.lower())\n",
    "print(name.upper())\n",
    "print(name.title())"
   ]
  },
  {
   "cell_type": "markdown",
   "id": "8c8e92e4",
   "metadata": {},
   "source": [
    "## Question 3\n",
    "\n",
    "**Famous Quote:** Find a quote from a famous person you admire. Print the quote and the name of its author. Your output should look something like the following, including the quotation marks:\n",
    "\n",
    "```\n",
    "Albert Einstein once said, “A person who never made a mistake never tried anything new.”\n",
    "```"
   ]
  },
  {
   "cell_type": "code",
   "execution_count": 4,
   "id": "3bed6cb5",
   "metadata": {},
   "outputs": [
    {
     "name": "stdout",
     "output_type": "stream",
     "text": [
      "The first law of geography: Waldo Tobler addressed, \"Everything is related to everything else, but near things are more related than distant things.\"\n"
     ]
    }
   ],
   "source": [
    "name = 'Waldo Tobler'\n",
    "quote = 'Everything is related to everything else, but near things are more related than distant things.'\n",
    "print(f'The first law of geography: {name} addressed, \"{quote}\"')"
   ]
  },
  {
   "cell_type": "markdown",
   "id": "4b46d366",
   "metadata": {},
   "source": [
    "## Question 4\n",
    "\n",
    "**Stripping Names:** Use a variable to represent a person’s name, and include some whitespace characters at the beginning and end of the name. Make sure you use each character combination, \"\\t\" and \"\\n\", at least once.\n",
    "Print the name once, so the whitespace around the name is displayed. Then print the name using each of the three stripping functions, lstrip(), rstrip(), and strip()."
   ]
  },
  {
   "cell_type": "code",
   "execution_count": 5,
   "id": "bb5dbb0f",
   "metadata": {},
   "outputs": [
    {
     "name": "stdout",
     "output_type": "stream",
     "text": [
      "Haerin\n",
      "\n",
      "\tHaerin\t\n",
      "\n",
      "Haerin\t\n",
      "\n",
      "\n",
      "\tHaerin\n",
      "Haerin\n"
     ]
    }
   ],
   "source": [
    "name = 'Haerin'\n",
    "print(name)\n",
    "name = '\\n\\tHaerin\\t\\n'\n",
    "print(name)\n",
    "print(name.lstrip())\n",
    "print(name.rstrip())\n",
    "print(name.strip())"
   ]
  },
  {
   "cell_type": "markdown",
   "id": "32cce0d9",
   "metadata": {},
   "source": [
    "## Question 5\n",
    "\n",
    "**Names:** Store the names of a few of your friends in a list called names. Print\n",
    "each person’s name by accessing each element in the list, one at a time."
   ]
  },
  {
   "cell_type": "code",
   "execution_count": 6,
   "id": "13da6459",
   "metadata": {},
   "outputs": [
    {
     "name": "stdout",
     "output_type": "stream",
     "text": [
      "Minji\n",
      "Hanni\n",
      "Danielle\n",
      "Haerin\n",
      "Hyein\n"
     ]
    }
   ],
   "source": [
    "names = ['Minji', 'Hanni', 'Danielle', 'Haerin', 'Hyein']\n",
    "for n in names:\n",
    "    print(n)\n",
    "del n"
   ]
  },
  {
   "cell_type": "markdown",
   "id": "aaaa5c8f",
   "metadata": {},
   "source": [
    "## Question 6\n",
    "\n",
    "**Your Own List:** Think of your favorite mode of transportation, such as a motorcycle or a car, and make a list that stores several examples. Use your list to print a series of statements about these items, such as “I would like to own a Honda motorcycle.”"
   ]
  },
  {
   "cell_type": "code",
   "execution_count": 7,
   "id": "eba0829e",
   "metadata": {},
   "outputs": [
    {
     "name": "stdout",
     "output_type": "stream",
     "text": [
      "I would like to use American Airlines.\n",
      "I would like to use Delta.\n",
      "I would like to use United.\n"
     ]
    }
   ],
   "source": [
    "airlines = ['American Airlines', 'Delta', 'United']\n",
    "for a in airlines:\n",
    "    print(f'I would like to use {a}.')\n",
    "del a"
   ]
  },
  {
   "cell_type": "markdown",
   "id": "e4b4452f",
   "metadata": {},
   "source": [
    "## Question 7\n",
    "\n",
    "**Pizzas:** Think of at least three kinds of your favorite pizza. Store these pizza names in a list, and then use a for loop to print the name of each pizza.\n",
    "\n",
    "Modify your for loop to print a sentence using the name of the pizza instead of printing just the name of the pizza. For each pizza you should have one line of output containing a simple statement like _I like pepperoni pizza._"
   ]
  },
  {
   "cell_type": "code",
   "execution_count": 8,
   "id": "37cdb68e",
   "metadata": {},
   "outputs": [
    {
     "name": "stdout",
     "output_type": "stream",
     "text": [
      "I prefer pepperoni pizza.\n",
      "I prefer cheese pizza.\n",
      "I prefer combination pizza.\n",
      "I prefer meat pizza.\n"
     ]
    }
   ],
   "source": [
    "pizzas = ['pepperoni', 'cheese', 'combination', 'meat']\n",
    "for p in pizzas:\n",
    "    print(f'I prefer {p} pizza.')\n",
    "del p"
   ]
  },
  {
   "cell_type": "markdown",
   "id": "b3b70e8e",
   "metadata": {},
   "source": [
    "Add a line at the end of your program, outside the for loop, that states how much you like pizza. The output should consist of three or more lines about the kinds of pizza you like and then an additional sentence, such as _I really love pizza!_"
   ]
  },
  {
   "cell_type": "code",
   "execution_count": 9,
   "id": "11b4528c",
   "metadata": {},
   "outputs": [
    {
     "name": "stdout",
     "output_type": "stream",
     "text": [
      "I prefer pepperoni pizza.\n",
      "I prefer cheese pizza.\n",
      "I prefer combination pizza.\n",
      "I prefer meat pizza.\n",
      "I really like having pizza.\n"
     ]
    }
   ],
   "source": [
    "for p in pizzas:\n",
    "    print(f'I prefer {p} pizza.')\n",
    "del p\n",
    "print('I really like having pizza.')"
   ]
  },
  {
   "cell_type": "markdown",
   "id": "6e42f992",
   "metadata": {},
   "source": [
    "## Question 8\n",
    "\n",
    "**Animals:** Think of at least three different animals that have a common characteristic. Store the names of these animals in a list, and then use a for loop to print out the name of each animal.\n",
    "\n",
    "Modify your program to print a statement about each animal, such as _A dog would make a great pet._"
   ]
  },
  {
   "cell_type": "code",
   "execution_count": 10,
   "id": "7489fb55",
   "metadata": {},
   "outputs": [
    {
     "name": "stdout",
     "output_type": "stream",
     "text": [
      "The tiger belongs to the cat species.\n",
      "The lion belongs to the cat species.\n",
      "The panther belongs to the cat species.\n",
      "The cheetah belongs to the cat species.\n"
     ]
    }
   ],
   "source": [
    "animals = ['Tiger', 'Lion', 'Panther', 'Cheetah']\n",
    "for a in animals:\n",
    "    print(f'The {a.lower()} belongs to the cat species.')\n",
    "del a"
   ]
  },
  {
   "cell_type": "markdown",
   "id": "b4484392",
   "metadata": {},
   "source": [
    "Add a line at the end of your program stating what these animals have in common. You could print a sentence such as _Any of these animals would make a great pet!_"
   ]
  },
  {
   "cell_type": "code",
   "execution_count": 11,
   "id": "eb9f8e19",
   "metadata": {},
   "outputs": [
    {
     "name": "stdout",
     "output_type": "stream",
     "text": [
      "The tiger belongs to the cat species.\n",
      "The lion belongs to the cat species.\n",
      "The panther belongs to the cat species.\n",
      "The cheetah belongs to the cat species.\n",
      "They all belong to the cat species.\n"
     ]
    }
   ],
   "source": [
    "for a in animals:\n",
    "    print(f'The {a.lower()} belongs to the cat species.')\n",
    "del a\n",
    "print('They all belong to the cat species.')"
   ]
  },
  {
   "cell_type": "markdown",
   "id": "ba99ccb5",
   "metadata": {},
   "source": [
    "## Question 9\n",
    "\n",
    "**Summing a Hundred:** Make a list of the numbers from one to one hundred, and then use `min()` and `max()` to make sure your list actually starts at one and ends at one hundred. Also, use the sum() function to see how quickly Python can add a hundred numbers."
   ]
  },
  {
   "cell_type": "code",
   "execution_count": 12,
   "id": "6c6a27a9",
   "metadata": {},
   "outputs": [
    {
     "name": "stdout",
     "output_type": "stream",
     "text": [
      "1\n",
      "100\n",
      "5050\n"
     ]
    }
   ],
   "source": [
    "numbers = list(range(1, 101))\n",
    "print(min(numbers))\n",
    "print(max(numbers))\n",
    "print(sum(numbers))"
   ]
  },
  {
   "cell_type": "markdown",
   "id": "d165cd3c",
   "metadata": {},
   "source": [
    "## Question 10\n",
    "\n",
    "**Odd Numbers:** Use the third argument of the `range()` function to make a list of the odd numbers from 1 to 20. Use a `for` loop to print each number."
   ]
  },
  {
   "cell_type": "code",
   "execution_count": 13,
   "id": "d276920a",
   "metadata": {},
   "outputs": [
    {
     "name": "stdout",
     "output_type": "stream",
     "text": [
      "1\n",
      "3\n",
      "5\n",
      "7\n",
      "9\n",
      "11\n",
      "13\n",
      "15\n",
      "17\n",
      "19\n"
     ]
    }
   ],
   "source": [
    "odds = list(range(1, 21, 2))\n",
    "for n in odds:\n",
    "    print(n)\n",
    "del n"
   ]
  },
  {
   "cell_type": "markdown",
   "id": "9e49d9eb",
   "metadata": {},
   "source": [
    "## Question 11\n",
    "\n",
    "**Threes:** Make a list of the multiples of 3 from 3 to 30. Use a `for` loop to print the numbers in your list."
   ]
  },
  {
   "cell_type": "code",
   "execution_count": 14,
   "id": "4ff24fc6",
   "metadata": {},
   "outputs": [
    {
     "name": "stdout",
     "output_type": "stream",
     "text": [
      "3\n",
      "6\n",
      "9\n",
      "12\n",
      "15\n",
      "18\n",
      "21\n",
      "24\n",
      "27\n",
      "30\n"
     ]
    }
   ],
   "source": [
    "threes = list(range(3, 31, 3))\n",
    "for n in threes:\n",
    "    print(n)\n",
    "del n"
   ]
  },
  {
   "cell_type": "markdown",
   "id": "dbcce457",
   "metadata": {},
   "source": [
    "## Question 12\n",
    "\n",
    "**Cube Comprehension:** Use a list comprehension to generate a list of the first 10 cubes."
   ]
  },
  {
   "cell_type": "code",
   "execution_count": 15,
   "id": "df0901f8",
   "metadata": {},
   "outputs": [
    {
     "data": {
      "text/plain": [
       "[1, 8, 27, 64, 125, 216, 343, 512, 729, 1000]"
      ]
     },
     "execution_count": 15,
     "metadata": {},
     "output_type": "execute_result"
    }
   ],
   "source": [
    "cubes = [value ** 3 for value in range(1, 11)]\n",
    "cubes"
   ]
  },
  {
   "cell_type": "markdown",
   "id": "c6946e7b",
   "metadata": {},
   "source": [
    "## Question 13\n",
    "\n",
    "**Slices:** Using one of the programs you wrote in this lab, add several lines to the end of the program that do the following:\n",
    "\n",
    "Print the message _The first three items in the list are:_. Then use a slice to print the first three items from that program’s list."
   ]
  },
  {
   "cell_type": "code",
   "execution_count": 16,
   "id": "0e03e488",
   "metadata": {},
   "outputs": [
    {
     "name": "stdout",
     "output_type": "stream",
     "text": [
      "The first three items in the list are: ['Minji', 'Hanni', 'Danielle'].\n"
     ]
    }
   ],
   "source": [
    "names = ['Minji', 'Hanni', 'Danielle', 'Haerin', 'Hyein']\n",
    "print(f'The first three items in the list are: {names[: 3]}.')"
   ]
  },
  {
   "cell_type": "markdown",
   "id": "6f88722c",
   "metadata": {},
   "source": [
    "Print the message _Three items from the middle of the list are:_. Use a slice to print three items from the middle of the list."
   ]
  },
  {
   "cell_type": "code",
   "execution_count": 17,
   "id": "6859a061",
   "metadata": {},
   "outputs": [
    {
     "name": "stdout",
     "output_type": "stream",
     "text": [
      "Three items from the middle of the list are: ['Hanni', 'Danielle', 'Haerin'].\n"
     ]
    }
   ],
   "source": [
    "print(f'Three items from the middle of the list are: {names[1:4]}.')"
   ]
  },
  {
   "cell_type": "markdown",
   "id": "0abc8cec",
   "metadata": {},
   "source": [
    "Print the message _The last three items in the list are:_. Use a slice to print the last three items in the list."
   ]
  },
  {
   "cell_type": "code",
   "execution_count": 18,
   "id": "64988cac",
   "metadata": {},
   "outputs": [
    {
     "name": "stdout",
     "output_type": "stream",
     "text": [
      "The last three items in the list are: ['Danielle', 'Haerin', 'Hyein'].\n"
     ]
    }
   ],
   "source": [
    "print(f'The last three items in the list are: {names[-3:]}.')"
   ]
  },
  {
   "cell_type": "markdown",
   "id": "36876b9d",
   "metadata": {},
   "source": [
    "## Question 14\n",
    "\n",
    "**Buffet:** A buffet-style restaurant offers only five basic foods. Think of five simple foods, and store them in a tuple.\n",
    "\n",
    "Use a for loop to print each food the restaurant offers."
   ]
  },
  {
   "cell_type": "code",
   "execution_count": 19,
   "id": "6f186d8a",
   "metadata": {},
   "outputs": [
    {
     "name": "stdout",
     "output_type": "stream",
     "text": [
      "Hamburger\n",
      "Pizza\n",
      "Pasta\n",
      "Chicken\n",
      "Sushi\n"
     ]
    }
   ],
   "source": [
    "buffet = ('Hamburger', 'Pizza', 'Pasta', 'Chicken', 'Sushi')\n",
    "for food in buffet:\n",
    "    print(food)\n",
    "del food"
   ]
  },
  {
   "cell_type": "markdown",
   "id": "0a6ba7f3",
   "metadata": {},
   "source": [
    "The restaurant changes its menu, replacing two of the items with different foods. Add a line that rewrites the tuple, and then use a for loop to print each of the items on the revised menu."
   ]
  },
  {
   "cell_type": "code",
   "execution_count": 20,
   "id": "79b11cbc",
   "metadata": {},
   "outputs": [
    {
     "name": "stdout",
     "output_type": "stream",
     "text": [
      "Hamburger\n",
      "Pizza\n",
      "Taco\n",
      "Ramen\n",
      "Sushi\n"
     ]
    }
   ],
   "source": [
    "buffet = ('Hamburger', 'Pizza', 'Taco', 'Ramen', 'Sushi')\n",
    "for food in buffet:\n",
    "    print(food)\n",
    "del food"
   ]
  },
  {
   "cell_type": "markdown",
   "id": "337ac27d",
   "metadata": {},
   "source": [
    "## Question 15\n",
    "\n",
    "**Alien Colors:** Imagine an alien was just shot down in a game. Create a variable called `alien_color` and assign it a value of `green, yellow,` or `red`.\n",
    "\n",
    "-   Write an if statement to test whether the alien’s color is green. If it is, print a message that the player just earned 5 points.\n",
    "-   Write one version of this program that passes the if test and another that fails. (The version that fails will have no output.)"
   ]
  },
  {
   "cell_type": "code",
   "execution_count": 21,
   "id": "cc3198fa",
   "metadata": {},
   "outputs": [
    {
     "name": "stdout",
     "output_type": "stream",
     "text": [
      "Player earned 5 points!\n"
     ]
    }
   ],
   "source": [
    "# pass\n",
    "alien_color = 'green'\n",
    "if alien_color == 'green':\n",
    "    print('Player earned 5 points!')"
   ]
  },
  {
   "cell_type": "code",
   "execution_count": 22,
   "id": "3e257985",
   "metadata": {},
   "outputs": [],
   "source": [
    "# fail\n",
    "alien_color = 'red'\n",
    "if alien_color == 'green':\n",
    "    print('Player earned 5 points!')"
   ]
  },
  {
   "cell_type": "markdown",
   "id": "57465bab",
   "metadata": {},
   "source": [
    "## Question 16\n",
    "\n",
    "**Stages of Life:** Write an `if-elif-else` chain that determines a person’s stage of life. Set a value for the variable `age`, and then:\n",
    "\n",
    "-   If the person is less than 2 years old, print a message that the person is a baby.\n",
    "-   If the person is at least 2 years old but less than 4, print a message that the person is a toddler.\n",
    "-   If the person is at least 4 years old but less than 13, print a message that the person is a kid.\n",
    "-   If the person is at least 13 years old but less than 20, print a message that the person is a teenager.\n",
    "-   If the person is at least 20 years old but less than 65, print a message that the person is an adult."
   ]
  },
  {
   "cell_type": "code",
   "execution_count": 23,
   "id": "b09c364a",
   "metadata": {},
   "outputs": [
    {
     "name": "stdout",
     "output_type": "stream",
     "text": [
      "The person is an adult.\n"
     ]
    }
   ],
   "source": [
    "age = 32\n",
    "if age < 2:\n",
    "    print('The person is a baby.')\n",
    "elif age < 4:\n",
    "    print('The person is a toddler.')\n",
    "elif age < 13:\n",
    "    print('The person is a kid.')\n",
    "elif age < 20:\n",
    "    print('The person is a teenager.')\n",
    "elif age < 65:\n",
    "    print('The person is an adult.')"
   ]
  },
  {
   "cell_type": "markdown",
   "id": "96b3da06",
   "metadata": {},
   "source": [
    "## Question 17\n",
    "\n",
    "**Favorite Fruit:** Make a list of your favorite fruits, and then write a series of independent `if` statements that check for certain fruits in your list.\n",
    "\n",
    "-   Make a list of your three favorite fruits and call it favorite_fruits.\n",
    "-   Write five if statements. Each should check whether a certain kind of fruit is in your list. If the fruit is in your list, the if block should print a statement, such as You really like bananas!"
   ]
  },
  {
   "cell_type": "code",
   "execution_count": 24,
   "id": "fc58635c",
   "metadata": {},
   "outputs": [
    {
     "name": "stdout",
     "output_type": "stream",
     "text": [
      "I like grape.\n",
      "I like apple.\n",
      "I like strawberry.\n"
     ]
    }
   ],
   "source": [
    "favorite_fruits = ['grape', 'apple', 'strawberry']\n",
    "if 'lemon' in favorite_fruits:\n",
    "    print('I like lemon.')\n",
    "if 'grape' in favorite_fruits:\n",
    "    print('I like grape.')\n",
    "if 'apple' in favorite_fruits:\n",
    "    print('I like apple.')\n",
    "if 'lime' in favorite_fruits:\n",
    "    print('I like lime.')\n",
    "if 'strawberry' in favorite_fruits:\n",
    "    print('I like strawberry.')"
   ]
  },
  {
   "cell_type": "markdown",
   "id": "71e4c6f1",
   "metadata": {},
   "source": [
    "## Question 18\n",
    "\n",
    "**Hello Admin:** Make a list of five or more usernames, including the name `admin`. Imagine you are writing code that will print a greeting to each user after they log in to a website. Loop through the list, and print a greeting to each user:\n",
    "\n",
    "-   If the username is 'admin', print a special greeting, such as _Hello admin, would you like to see a status report?_\n",
    "-   Otherwise, print a generic greeting, such as _Hello Jaden, thank you for logging in again_."
   ]
  },
  {
   "cell_type": "code",
   "execution_count": 25,
   "id": "651e8bf2",
   "metadata": {},
   "outputs": [
    {
     "name": "stdout",
     "output_type": "stream",
     "text": [
      "Hello admin, would you like to see a status report?\n",
      "Hello minji, welcome back.\n",
      "Hello hanni, welcome back.\n",
      "Hello dani, welcome back.\n",
      "Hello haerin, welcome back.\n",
      "Hello hyein, welcome back.\n"
     ]
    }
   ],
   "source": [
    "usernames = ['admin', 'minji', 'hanni', 'dani', 'haerin', 'hyein']\n",
    "for user in usernames:\n",
    "    if user == 'admin':\n",
    "        print('Hello admin, would you like to see a status report?')\n",
    "    else:\n",
    "        print(f'Hello {user}, welcome back.')"
   ]
  },
  {
   "cell_type": "markdown",
   "id": "fd53a583",
   "metadata": {},
   "source": [
    "## Question 19\n",
    "\n",
    "**Checking Usernames:** Do the following to create a program that simulates how websites ensure that everyone has a unique username.\n",
    "\n",
    "-   Make a list of five or more usernames called `current_users`.\n",
    "-   Make another list of five usernames called `new_users`. Make sure one or two of the new usernames are also in the `current_users` list.\n",
    "-   Loop through the `new_users` list to see if each new username has already been used. If it has, print a message that the person will need to enter a new username. If a username has not been used, print a message saying that the username is available.\n",
    "-   Make sure your comparison is case insensitive. If 'John' has been used, 'JOHN' should not be accepted. (To do this, you’ll need to make a copy of `current_users` containing the lowercase versions of all existing users.)"
   ]
  },
  {
   "cell_type": "code",
   "execution_count": 26,
   "id": "9f1a4a8d",
   "metadata": {},
   "outputs": [
    {
     "name": "stdout",
     "output_type": "stream",
     "text": [
      "\"haewon\" is available to use.\n",
      "\"lily\" is available to use.\n",
      "\"minji\" is already used by other person. Please use other user name.\n",
      "\"sullyoon\" is available to use.\n",
      "\"haerin\" is already used by other person. Please use other user name.\n"
     ]
    }
   ],
   "source": [
    "current_users = ['minji', 'hanni', 'dani', 'haerin', 'hyein']\n",
    "new_users = ['haewon', 'lily', 'minji', 'sullyoon', 'haerin']\n",
    "\n",
    "current_users_copy = [user.lower() for user in current_users]\n",
    "for user in new_users:\n",
    "    if user.lower() in current_users_copy:\n",
    "        print(f'\"{user}\" is already used by other person. Please use other user name.')\n",
    "    else:\n",
    "        print(f'\"{user}\" is available to use.')\n",
    "del user"
   ]
  },
  {
   "cell_type": "markdown",
   "id": "20f8412b",
   "metadata": {},
   "source": [
    "## Question 20\n",
    "\n",
    "**Ordinal Numbers:** Ordinal numbers indicate their position in a list, such as _1st_ or _2nd_. Most ordinal numbers end in _th_, except 1, 2, and 3.\n",
    "\n",
    "-   Store the numbers 1 through 9 in a list.\n",
    "-   Loop through the list.\n",
    "-   Use an `if-elif-else` chain inside the loop to print the proper ordinal ending for each number. Your output should read \"1st 2nd 3rd 4th 5th 6th 7th 8th 9th\", and each result should be on a separate line."
   ]
  },
  {
   "cell_type": "code",
   "execution_count": 27,
   "id": "6231e1e4",
   "metadata": {},
   "outputs": [
    {
     "name": "stdout",
     "output_type": "stream",
     "text": [
      "1st\n",
      "\n",
      "2nd\n",
      "\n",
      "3rd\n",
      "\n",
      "4th\n",
      "\n",
      "5th\n",
      "\n",
      "6th\n",
      "\n",
      "7th\n",
      "\n",
      "8th\n",
      "\n",
      "9th\n",
      "\n"
     ]
    }
   ],
   "source": [
    "numbers = list(range(1, 10))\n",
    "for n in numbers:\n",
    "    if n == 1:\n",
    "        print(f'{n}st\\n')\n",
    "    elif n == 2:\n",
    "        print(f'{n}nd\\n')\n",
    "    elif n == 3:\n",
    "        print(f'{n}rd\\n')\n",
    "    else:\n",
    "        print(f'{n}th\\n')\n",
    "del n"
   ]
  }
 ],
 "metadata": {
  "kernelspec": {
   "display_name": "Python 3",
   "language": "python",
   "name": "python3"
  },
  "language_info": {
   "codemirror_mode": {
    "name": "ipython",
    "version": 3
   },
   "file_extension": ".py",
   "mimetype": "text/x-python",
   "name": "python",
   "nbconvert_exporter": "python",
   "pygments_lexer": "ipython3",
   "version": "3.9.16"
  }
 },
 "nbformat": 4,
 "nbformat_minor": 5
}
