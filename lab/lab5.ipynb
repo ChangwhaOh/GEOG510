{
 "cells": [
  {
   "cell_type": "markdown",
   "id": "4e70be69",
   "metadata": {},
   "source": [
    "# Lab 5\n",
    "\n",
    "[![image](https://colab.research.google.com/assets/colab-badge.svg)](https://colab.research.google.com/github/giswqs/geosdemo/blob/master/docs/labs/lab5.ipynb)\n",
    "\n",
    "## Submission instructions\n",
    "\n",
    "1. Download the notebook from https://geosdemo.gishub.org/labs/lab5\n",
    "2. Complete the lab questions\n",
    "3. Restart Kernel and Run All Cells\n",
    "4. Upload the notebook to your GitHub repository\n",
    "5. Make sure the notebook has an `Open In Colab` badge. Click on the badge to make sure your notebook can be opened in Colab.\n",
    "6. Submit the link to the notebook on your GitHub repository to Canvas"
   ]
  },
  {
   "cell_type": "code",
   "execution_count": 61,
   "id": "8de60915",
   "metadata": {},
   "outputs": [
    {
     "name": "stdout",
     "output_type": "stream",
     "text": [
      "Submitted time: 2023-03-21 12:30:08.928876\n"
     ]
    }
   ],
   "source": [
    "from datetime import datetime\n",
    "\n",
    "now = datetime.now()\n",
    "print(f\"Submitted time: {now}\")"
   ]
  },
  {
   "cell_type": "markdown",
   "id": "a526d1ff",
   "metadata": {},
   "source": [
    "## Question 1\n",
    "\n",
    "**Person:** Use a dictionary to store information about a person you know. Store their first name, last name, age, and the city in which they live. You should have keys such as first_name, last_name, age, and city. Print each piece of information stored in your dictionary."
   ]
  },
  {
   "cell_type": "code",
   "execution_count": 6,
   "id": "060bd962",
   "metadata": {},
   "outputs": [
    {
     "name": "stdout",
     "output_type": "stream",
     "text": [
      "first_name: Haerin\n",
      "last_name: Kang\n",
      "age: 16\n",
      "city: Seoul\n"
     ]
    }
   ],
   "source": [
    "person = {'first_name': 'Haerin', 'last_name': 'Kang', 'age': 16, 'city': 'Seoul'}\n",
    "for key, value in person.items():\n",
    "    print(f'{key}: {value}')"
   ]
  },
  {
   "cell_type": "markdown",
   "id": "32bb120e",
   "metadata": {},
   "source": [
    "## Question 2\n",
    "\n",
    "**Favorite Numbers:** Use a dictionary to store people’s favorite numbers. Think of five names, and use them as keys in your dictionary. Think of a favorite number for each person, and store each as a value in your dictionary. Print each person’s name and their favorite number. For even more fun, poll a few friends and get some actual data for your program."
   ]
  },
  {
   "cell_type": "code",
   "execution_count": 8,
   "id": "37115a33",
   "metadata": {},
   "outputs": [
    {
     "name": "stdout",
     "output_type": "stream",
     "text": [
      "Minji's favorite number is 1.\n",
      "Hanni's favorite number is 2.\n",
      "Danielle's favorite number is 3.\n",
      "Haerin's favorite number is 4.\n",
      "Hyein's favorite number is 5.\n"
     ]
    }
   ],
   "source": [
    "favor_num = {'Minji': 1, 'Hanni': 2, 'Danielle': 3, 'Haerin': 4, 'Hyein': 5}\n",
    "for key, value in favor_num.items():\n",
    "    print(f\"{key}'s favorite number is {value}.\")"
   ]
  },
  {
   "cell_type": "markdown",
   "id": "eb31ca53",
   "metadata": {},
   "source": [
    "## Question 3\n",
    "\n",
    "**Glossary:** A Python dictionary can be used to model an actual dictionary. However, to avoid confusion, let’s call it a glossary.\n",
    "\n",
    "- Think of five programming words you’ve learned about in the previous chapters. Use these words as the keys in your glossary, and store their meanings as values.\n",
    "- Print each word and its meaning as neatly formatted output. You might print the word followed by a colon and then its meaning, or print the word on one line and then print its meaning indented on a second line. Use the newline character (\\n) to insert a blank line between each word-meaning pair in your output."
   ]
  },
  {
   "cell_type": "code",
   "execution_count": 58,
   "id": "7bdd7f86",
   "metadata": {},
   "outputs": [
    {
     "name": "stdout",
     "output_type": "stream",
     "text": [
      "List:\n",
      "A list is a collection of items in a particular order.\n",
      "Tuple:\n",
      "A tuple is a collection of items in a particular order, without allowing any changes.\n",
      "Dictionary:\n",
      "A dictionary is a collection of key-value pairs.\n",
      "Variable:\n",
      "Every variable is connected to a value, which is the information associated with that variable.\n",
      "String:\n",
      "String is a type of variable that is composed by characters.\n"
     ]
    }
   ],
   "source": [
    "py_dict = {'list': 'A list is a collection of items in a particular order.',\n",
    "           'tuple': 'A tuple is a collection of items in a particular order, without allowing any changes.', \n",
    "           'dictionary': 'A dictionary is a collection of key-value pairs.', \n",
    "           'variable': 'Every variable is connected to a value, which is the information associated with that variable.',\n",
    "           'string': 'String is a type of variable that is composed by characters.'}\n",
    "\n",
    "print(list(py_dict.keys())[0].title() + ':\\n' + py_dict['list'])\n",
    "print(list(py_dict.keys())[1].title() + ':\\n' + py_dict['tuple'])\n",
    "print(list(py_dict.keys())[2].title() + ':\\n' + py_dict['dictionary'])\n",
    "print(list(py_dict.keys())[3].title() + ':\\n' + py_dict['variable'])\n",
    "print(list(py_dict.keys())[4].title() + ':\\n' + py_dict['string'])"
   ]
  },
  {
   "cell_type": "markdown",
   "id": "9bdb2d85",
   "metadata": {},
   "source": [
    "## Question 4\n",
    "\n",
    "**Glossary 2:** Now that you know how to loop through a dictionary, clean up the code from Question 3 by replacing your series of print() calls with a loop that runs through the dictionary’s keys and values. When you’re sure that your loop works, add five more Python terms to your glossary. When you run your program again, these new words and meanings should automatically be included in the output."
   ]
  },
  {
   "cell_type": "code",
   "execution_count": 59,
   "id": "018d37ff",
   "metadata": {},
   "outputs": [
    {
     "name": "stdout",
     "output_type": "stream",
     "text": [
      "List:\n",
      "A list is a collection of items in a particular order.\n",
      "Tuple:\n",
      "A tuple is a collection of items in a particular order, without allowing any changes.\n",
      "Dictionary:\n",
      "A dictionary is a collection of key-value pairs.\n",
      "Variable:\n",
      "Every variable is connected to a value, which is the information associated with that variable.\n",
      "String:\n",
      "String is a type of variable that is composed by characters.\n"
     ]
    }
   ],
   "source": [
    "py_dict = {'list': 'A list is a collection of items in a particular order.',\n",
    "           'tuple': 'A tuple is a collection of items in a particular order, without allowing any changes.', \n",
    "           'dictionary': 'A dictionary is a collection of key-value pairs.', \n",
    "           'variable': 'Every variable is connected to a value, which is the information associated with that variable.',\n",
    "           'string': 'String is a type of variable that is composed by characters.'}\n",
    "for key, value in py_dict.items():\n",
    "    print(f'{key.title()}:\\n{value}')"
   ]
  },
  {
   "cell_type": "markdown",
   "id": "375356d5",
   "metadata": {},
   "source": [
    "## Question 5\n",
    "\n",
    "**Rivers:** Make a dictionary containing three major rivers and the country each river runs through. One key-value pair might be 'nile': 'egypt'.\n",
    "\n",
    "- Use a loop to print a sentence about each river, such as _The Nile runs through Egypt._\n",
    "- Use a loop to print the name of each river included in the dictionary.\n",
    "- Use a loop to print the name of each country included in the dictionary."
   ]
  },
  {
   "cell_type": "code",
   "execution_count": 12,
   "id": "2fd7b758",
   "metadata": {},
   "outputs": [
    {
     "name": "stdout",
     "output_type": "stream",
     "text": [
      "The Nile runs through Egypt.\n",
      "The Mississippi runs through the USA.\n",
      "The Amazon runs through Brazil.\n",
      "Nile\n",
      "Mississippi\n",
      "Amazon\n",
      "Egypt\n",
      "the USA\n",
      "Brazil\n"
     ]
    }
   ],
   "source": [
    "rivers = {'Nile': 'Egypt', 'Mississippi': 'the USA', 'Amazon': 'Brazil'}\n",
    "for key, value in rivers.items():\n",
    "    print(f'The {key} runs through {value}.')\n",
    "for key in rivers.keys():\n",
    "    print(f'{key}')\n",
    "for value in rivers.values():\n",
    "    print(f'{value}')"
   ]
  },
  {
   "cell_type": "markdown",
   "id": "8b0b500d",
   "metadata": {},
   "source": [
    "## Question 6\n",
    "\n",
    "**Cities:** Make a dictionary called `cities`. Use the names of three cities as keys in your dictionary. Create a dictionary of information about each city and include the country that the city is in, its approximate population, and one fact about that city. The keys for each city’s dictionary should be something like `country`, `population`, and `fact`. Print the name of each city and all of the information you have stored about it."
   ]
  },
  {
   "cell_type": "code",
   "execution_count": 60,
   "id": "28a77010",
   "metadata": {},
   "outputs": [
    {
     "name": "stdout",
     "output_type": "stream",
     "text": [
      "Seoul\n",
      "country: South Korea\n",
      "population: 9427583\n",
      "fact: the capital of South Korea\n",
      "\n",
      "Beijing\n",
      "country: China\n",
      "population: 21431309\n",
      "fact: the capital of China\n",
      "\n",
      "Tokyo\n",
      "country: Japan\n",
      "population: 14042127\n",
      "fact: the capital of Japan\n",
      "\n"
     ]
    }
   ],
   "source": [
    "cities = {'Seoul': {'country': 'South Korea', 'population': 9427583, 'fact': 'the capital of South Korea'}, \n",
    "          'Beijing': {'country': 'China', 'population': 21431309, 'fact': 'the capital of China'}, \n",
    "          'Tokyo': {'country': 'Japan', 'population': 14042127, 'fact': 'the capital of Japan'}}\n",
    "\n",
    "for city, info in cities.items():\n",
    "    print(f'{city}')\n",
    "    for key, value in info.items():\n",
    "        print(f'{key}: {value}')\n",
    "    print('')"
   ]
  },
  {
   "cell_type": "markdown",
   "id": "874541d3",
   "metadata": {},
   "source": [
    "## Question 7\n",
    "\n",
    "**Rental Car:** Write a program that asks the user what kind of rental car they would like. Print a message about that car, such as “Let me see if I can find you a Subaru.”"
   ]
  },
  {
   "cell_type": "code",
   "execution_count": 1,
   "id": "5283628b",
   "metadata": {},
   "outputs": [
    {
     "name": "stdout",
     "output_type": "stream",
     "text": [
      "\n",
      "Let me see if I can find you a Hyundai!\n"
     ]
    }
   ],
   "source": [
    "car = input('Please enter the name of car: ')\n",
    "print(f'\\nLet me see if I can find you a {car}!')"
   ]
  },
  {
   "cell_type": "markdown",
   "id": "e03a200a",
   "metadata": {},
   "source": [
    "## Question 8\n",
    "\n",
    "**Restaurant Seating:** Write a program that asks the user how many people are in their dinner group. If the answer is more than eight, print a message saying they’ll have to wait for a table. Otherwise, report that their table is ready."
   ]
  },
  {
   "cell_type": "code",
   "execution_count": 5,
   "id": "96167a0f",
   "metadata": {},
   "outputs": [
    {
     "name": "stdout",
     "output_type": "stream",
     "text": [
      "\n",
      "The table is ready\n"
     ]
    }
   ],
   "source": [
    "num = input('How many people do you have?: ')\n",
    "num = int(num)\n",
    "if num > 8:\n",
    "    print(f'\\nYou have to wait for a table.')\n",
    "else:\n",
    "    print(f'\\nThe table is ready')"
   ]
  },
  {
   "cell_type": "markdown",
   "id": "a523d8a7",
   "metadata": {},
   "source": [
    "## Question 9\n",
    "\n",
    "**Multiples of Ten:** Ask the user for a number, and then report whether the number is a multiple of 10 or not."
   ]
  },
  {
   "cell_type": "code",
   "execution_count": null,
   "id": "77c9702e",
   "metadata": {},
   "outputs": [
    {
     "name": "stdout",
     "output_type": "stream",
     "text": [
      "5 is not a multiple of 10.\n"
     ]
    }
   ],
   "source": [
    "num = input('Please enter a number: ')\n",
    "num = int(num)\n",
    "if num % 10 == 0:\n",
    "    print(f'{num} is a multiple of 10.')\n",
    "else:\n",
    "    print(f'{num} is not a multiple of 10.')"
   ]
  },
  {
   "cell_type": "markdown",
   "id": "de550983",
   "metadata": {},
   "source": [
    "## Question 10\n",
    "\n",
    "**Pizza Toppings:** Write a loop that prompts the user to enter a series of pizza toppings until they enter a 'quit' value. As they enter each topping, print a message saying you’ll add that topping to their pizza."
   ]
  },
  {
   "cell_type": "code",
   "execution_count": 2,
   "id": "11f4d8e4",
   "metadata": {},
   "outputs": [
    {
     "name": "stdout",
     "output_type": "stream",
     "text": [
      "onion is added on your pizza!\n",
      "cheeze is added on your pizza!\n",
      "bacon is added on your pizza!\n"
     ]
    }
   ],
   "source": [
    "prompt = '\\nTell me a topping you want, and I will add it on your pizza: '\n",
    "prompt += \"\\nEnter 'quit' to end the program.\"\n",
    "\n",
    "topping = ''\n",
    "while topping != 'quit':\n",
    "    topping = input(prompt)\n",
    "\n",
    "    if topping != 'quit':\n",
    "        print(f'{topping} is added on your pizza!')"
   ]
  },
  {
   "cell_type": "markdown",
   "id": "ccfe4831",
   "metadata": {},
   "source": [
    "## Question 11\n",
    "\n",
    "**Message:** Write a function called `display_message()` that prints one sentence telling everyone what you are learning about in this chapter. Call the function, and make sure the message displays correctly."
   ]
  },
  {
   "cell_type": "code",
   "execution_count": 5,
   "id": "7080b52a",
   "metadata": {},
   "outputs": [
    {
     "name": "stdout",
     "output_type": "stream",
     "text": [
      "The input() function pauses your program and waits for the user to enter some text.\n"
     ]
    }
   ],
   "source": [
    "def display_message():\n",
    "    print('The input() function pauses your program and waits for the user to enter some text.')\n",
    "\n",
    "display_message()"
   ]
  },
  {
   "cell_type": "markdown",
   "id": "2b5e23db",
   "metadata": {},
   "source": [
    "## Question 12\n",
    "\n",
    "**Favorite Book:** Write a function called `favorite_book()` that accepts one parameter, title. The function should print a message, such as `One of my favorite books is Alice in Wonderland`. Call the function, making sure to include a book title as an argument in the function call."
   ]
  },
  {
   "cell_type": "code",
   "execution_count": 7,
   "id": "b33bd108",
   "metadata": {},
   "outputs": [
    {
     "name": "stdout",
     "output_type": "stream",
     "text": [
      "One of my favorite books is The Origin of Species.\n"
     ]
    }
   ],
   "source": [
    "def favorite_book(title):\n",
    "    print(f'One of my favorite books is {title}.')\n",
    "\n",
    "t = 'The Origin of Species'\n",
    "favorite_book(t)"
   ]
  },
  {
   "cell_type": "markdown",
   "id": "4904419f",
   "metadata": {},
   "source": [
    "## Question 13\n",
    "\n",
    "**T-Shirt:** Write a function called `make_shirt()` that accepts a size and the text of a message that should be printed on the shirt. The function should print a sentence summarizing the size of the shirt and the message printed on it.\n",
    "\n",
    "Call the function once using positional arguments to make a shirt. Call the function a second time using keyword arguments."
   ]
  },
  {
   "cell_type": "code",
   "execution_count": 10,
   "id": "53d690ca",
   "metadata": {},
   "outputs": [
    {
     "name": "stdout",
     "output_type": "stream",
     "text": [
      "The size of your shirt L and \"Geography\" will be printed on it\n",
      "The size of your shirt L and \"Geography\" will be printed on it\n"
     ]
    }
   ],
   "source": [
    "def make_shirt(size, message):\n",
    "    print(f'The size of your shirt {size} and \"{message}\" will be printed on it')\n",
    "\n",
    "# positional arguments\n",
    "make_shirt('L', 'Geography')\n",
    "\n",
    "# keyword arguments\n",
    "make_shirt(message = 'Geography', size = 'L')"
   ]
  },
  {
   "cell_type": "markdown",
   "id": "c6a6dc4b",
   "metadata": {},
   "source": [
    "## Question 14\n",
    "\n",
    "**Large Shirts:** Modify the `make_shirt()` function so that shirts are large by default with a message that reads _I love Python_. Make a large shirt and a medium shirt with the default message, and a shirt of any size with a different message."
   ]
  },
  {
   "cell_type": "code",
   "execution_count": 13,
   "id": "658f7e3f",
   "metadata": {},
   "outputs": [
    {
     "name": "stdout",
     "output_type": "stream",
     "text": [
      "The size of your shirt Large and \"I love Python\" will be printed on it\n",
      "The size of your shirt Medium and \"I love Python\" will be printed on it\n",
      "The size of your shirt Small and \"I love Java\" will be printed on it\n"
     ]
    }
   ],
   "source": [
    "def make_shirt(size = 'Large', message = 'I love Python'):\n",
    "    print(f'The size of your shirt {size} and \"{message}\" will be printed on it')\n",
    "\n",
    "make_shirt()\n",
    "make_shirt(size = 'Medium')\n",
    "make_shirt(size = 'Small', message = 'I love Java')"
   ]
  },
  {
   "cell_type": "markdown",
   "id": "64fd6e85",
   "metadata": {},
   "source": [
    "## Question 15\n",
    "\n",
    "**Cities:** Write a function called `describe_city()` that accepts the name of a city and its country. The function should print a simple sentence, such as `Reykjavik is in Iceland`. Give the parameter for the country a default value. Call your function for three different cities, at least one of which is not in the default country."
   ]
  },
  {
   "cell_type": "code",
   "execution_count": 15,
   "id": "bc493373",
   "metadata": {},
   "outputs": [
    {
     "name": "stdout",
     "output_type": "stream",
     "text": [
      "Knoxville is in The Us.\n",
      "Nashville is in The Us.\n",
      "Seoul is in South Korea.\n"
     ]
    }
   ],
   "source": [
    "def describe_city(name, country = 'The US'):\n",
    "    print(f'{name.title()} is in {country}.')\n",
    "\n",
    "describe_city('Knoxville')\n",
    "describe_city('Nashville')\n",
    "describe_city('Seoul', country = 'South Korea')"
   ]
  },
  {
   "cell_type": "markdown",
   "id": "259cdcdc",
   "metadata": {},
   "source": [
    "## Question 16\n",
    "\n",
    "**City Names:** Write a function called `city_country()` that takes in the name of a city and its country. The function should return a string formatted like this:\n",
    "\n",
    "```text\n",
    "Santiago, Chile\n",
    "```\n",
    "\n",
    "Call your function with at least three city-country pairs, and print the values that are returned."
   ]
  },
  {
   "cell_type": "code",
   "execution_count": 16,
   "id": "f1b5b16e",
   "metadata": {},
   "outputs": [
    {
     "name": "stdout",
     "output_type": "stream",
     "text": [
      "Seoul, South Korea\n",
      "Beijing, China\n",
      "Tokyo, Japan\n"
     ]
    }
   ],
   "source": [
    "def city_country(name, country):\n",
    "    print(f'{name.title()}, {country.title()}')\n",
    "\n",
    "city_country('seoul', 'south korea')\n",
    "city_country('beijing', 'china')\n",
    "city_country('tokyo', 'japan')"
   ]
  },
  {
   "cell_type": "markdown",
   "id": "491f64a4",
   "metadata": {},
   "source": [
    "## Question 17\n",
    "\n",
    "**Album:** Write a function called `make_album()` that builds a dictionary describing a music album. The function should take in an artist name and an album title, and it should return a dictionary containing these two pieces of information. Use the function to make three dictionaries representing different albums. Print each return value to show that the dictionaries are storing the album information correctly.\n",
    "\n",
    "Use None to add an optional parameter to make_album() that allows you to store the number of songs on an album. If the calling line includes a value for the number of songs, add that value to the album’s dictionary. Make at least one new function call that includes the number of songs on an album."
   ]
  },
  {
   "cell_type": "code",
   "execution_count": 22,
   "id": "550b2be6",
   "metadata": {},
   "outputs": [
    {
     "name": "stdout",
     "output_type": "stream",
     "text": [
      "{'Artist Name': 'New Jeans', 'Album Title': 'OMG'}\n",
      "{'Artist Name': 'IVE', 'Album Title': 'After Like'}\n",
      "{'Artist Name': 'Le Sserafim', 'Album Title': 'Antifragile'}\n",
      "{'Artist Name': 'NMIXX', 'Album Title': 'Expergo', 'The number of songs': 6}\n"
     ]
    }
   ],
   "source": [
    "def make_album(artist, title):\n",
    "    album_info = {'Artist Name': artist, 'Album Title': title}\n",
    "    return album_info\n",
    "\n",
    "newjeans = make_album('New Jeans', 'OMG')\n",
    "ive = make_album('IVE', 'After Like')\n",
    "lesserafim = make_album('Le Sserafim', 'Antifragile')\n",
    "print(newjeans)\n",
    "print(ive)\n",
    "print(lesserafim)\n",
    "\n",
    "# Add the number of songs\n",
    "def make_album(artist, title, songs = None):\n",
    "    album_info = {'Artist Name': artist, 'Album Title': title}\n",
    "    if songs:\n",
    "        album_info['The number of songs'] = songs\n",
    "    return album_info\n",
    "\n",
    "nmixx = make_album('NMIXX', 'Expergo', 6)\n",
    "print(nmixx)"
   ]
  },
  {
   "cell_type": "markdown",
   "id": "42f6a72f",
   "metadata": {},
   "source": [
    "## Question 18\n",
    "\n",
    "**User Albums:** Start with your program from Question 17. Write a `while` loop that allows users to enter an album’s artist and title. Once you have that information, call `make_album()` with the user’s input and print the dictionary that’s created. Be sure to include a quit value in the `while` loop."
   ]
  },
  {
   "cell_type": "code",
   "execution_count": 26,
   "id": "2ba9b4ba",
   "metadata": {},
   "outputs": [
    {
     "name": "stdout",
     "output_type": "stream",
     "text": [
      "\n",
      "Please tell me about the information of an album: \n",
      "(enter \"q\" at any time to quit)\n",
      "{'Artist Name': 'NMIXX', 'Album Title': 'Expergo'}\n",
      "\n",
      "Please tell me about the information of an album: \n",
      "(enter \"q\" at any time to quit)\n"
     ]
    }
   ],
   "source": [
    "def make_album(artist, title):\n",
    "    album_info = {'Artist Name': artist, 'Album Title': title}\n",
    "    return album_info\n",
    "\n",
    "while True:\n",
    "    print('\\nPlease tell me about the information of an album: ')\n",
    "    print('(enter \"q\" at any time to quit)')\n",
    "\n",
    "    artist = input('Artist name: ')\n",
    "    if artist == 'q':\n",
    "        break\n",
    "\n",
    "    title = input('Album title: ')\n",
    "    if title == 'q':\n",
    "        break\n",
    "\n",
    "    info = make_album(artist, title)\n",
    "    print(info)"
   ]
  },
  {
   "cell_type": "markdown",
   "id": "97bab8c2",
   "metadata": {},
   "source": [
    "## Question 19\n",
    "\n",
    "**Messages:** Make a list containing a series of short text messages. Pass the list to a function called `show_messages()`, which prints each text message."
   ]
  },
  {
   "cell_type": "code",
   "execution_count": 27,
   "id": "f8f3ee4e",
   "metadata": {},
   "outputs": [
    {
     "name": "stdout",
     "output_type": "stream",
     "text": [
      "Hi\n",
      "How are you?\n",
      "Thank you\n",
      "Welcome\n",
      "What's going on?\n"
     ]
    }
   ],
   "source": [
    "def show_messages(ls):\n",
    "    for t in ls:\n",
    "        print(t)\n",
    "\n",
    "ls = ['Hi', 'How are you?', 'Thank you', 'Welcome', \"What's going on?\"]\n",
    "show_messages(ls)"
   ]
  },
  {
   "cell_type": "markdown",
   "id": "a8bcea3c",
   "metadata": {},
   "source": [
    "## Question 20\n",
    "\n",
    "**Sending Messages:** Start with a copy of your program from Question 19. Write a function called `send_messages()` that prints each text message and moves each message to a new list called `sent_messages` as it’s printed. After calling the function, print both of your lists to make sure the messages were moved correctly."
   ]
  },
  {
   "cell_type": "code",
   "execution_count": 31,
   "id": "c5340719",
   "metadata": {},
   "outputs": [
    {
     "name": "stdout",
     "output_type": "stream",
     "text": [
      "message \"Hi\" is sent\n",
      "message \"How are you?\" is sent\n",
      "message \"Thank you\" is sent\n",
      "message \"Welcome\" is sent\n",
      "message \"What's going on?\" is sent\n",
      "[]\n",
      "['Hi', 'How are you?', 'Thank you', 'Welcome', \"What's going on?\"]\n"
     ]
    }
   ],
   "source": [
    "def sent_messages(ls):\n",
    "    wait_ls = ls[:]\n",
    "    sent_ls = []\n",
    "    for t in wait_ls:\n",
    "        print(f'Message \"{t}\" is sent.')\n",
    "        sent_ls.append(t)\n",
    "        ls.remove(t)\n",
    "    return sent_ls\n",
    "\n",
    "ls = ['Hi', 'How are you?', 'Thank you', 'Welcome', \"What's going on?\"]\n",
    "sent = sent_messages(ls)\n",
    "print(ls)\n",
    "print(sent)"
   ]
  },
  {
   "cell_type": "markdown",
   "id": "c98f1dd0",
   "metadata": {},
   "source": [
    "## Question 21\n",
    "\n",
    "**Learning Python:** Open a blank file in your text editor and write a few lines summarizing what you’ve learned about Python so far. Start each line with the phrase _In Python you can. . .._ Save the file as _learning_python.txt_ in the same directory as your exercises from this chapter. Write a program that reads the file and prints what you wrote three times. Print the contents once by reading in the entire file, once by looping over the file object, and once by storing the lines in a list and then working with them outside the _with_ block."
   ]
  },
  {
   "cell_type": "code",
   "execution_count": 1,
   "id": "cb5da040",
   "metadata": {},
   "outputs": [
    {
     "name": "stdout",
     "output_type": "stream",
     "text": [
      "In Python you can make a list.\n",
      "In Python you can print strings.\n",
      "In Python you can use conditional statements.\n",
      "In Python you can make a dictionary. \n"
     ]
    }
   ],
   "source": [
    "with open('learning_python.txt') as file_object:\n",
    "    contents = file_object.read()\n",
    "print(contents)"
   ]
  },
  {
   "cell_type": "code",
   "execution_count": 2,
   "id": "6ba2d4d8",
   "metadata": {},
   "outputs": [
    {
     "name": "stdout",
     "output_type": "stream",
     "text": [
      "In Python you can make a list.\n",
      "\n",
      "In Python you can print strings.\n",
      "\n",
      "In Python you can use conditional statements.\n",
      "\n",
      "In Python you can make a dictionary. \n"
     ]
    }
   ],
   "source": [
    "with open('learning_python.txt') as file_object:\n",
    "    for line in file_object:\n",
    "        print(line)"
   ]
  },
  {
   "cell_type": "code",
   "execution_count": 6,
   "id": "c0fc59f0",
   "metadata": {},
   "outputs": [
    {
     "name": "stdout",
     "output_type": "stream",
     "text": [
      "In Python you can make a list.\n",
      "In Python you can print strings.\n",
      "In Python you can use conditional statements.\n",
      "In Python you can make a dictionary.\n"
     ]
    }
   ],
   "source": [
    "with open('learning_python.txt') as file_object:\n",
    "    lines = file_object.readlines()\n",
    "\n",
    "for line in lines:\n",
    "    print(line.rstrip())"
   ]
  },
  {
   "cell_type": "markdown",
   "id": "4a1a04ad",
   "metadata": {},
   "source": [
    "## Question 22\n",
    "\n",
    "**Learning C:** You can use the replace() method to replace any word in a string with a different word. Here’s a quick example showing how to replace 'dog' with 'cat' in a sentence:\n",
    "\n",
    "```text\n",
    "message = \"I really like dogs.\"\n",
    "message.replace('dog', 'cat')\n",
    "'I really like cats.'\n",
    "```\n",
    "\n",
    "Read in each line from the file you just created, _learning_python.txt_, and replace the word _Python_ with the name of another language, such as _C_. Print each modified line to the screen."
   ]
  },
  {
   "cell_type": "code",
   "execution_count": 8,
   "id": "b11b8018",
   "metadata": {},
   "outputs": [
    {
     "name": "stdout",
     "output_type": "stream",
     "text": [
      "In C you can make a list.\n",
      "In C you can print strings.\n",
      "In C you can use conditional statements.\n",
      "In C you can make a dictionary.\n"
     ]
    }
   ],
   "source": [
    "with open('learning_python.txt') as file_object:\n",
    "    lines = file_object.readlines()\n",
    "\n",
    "for line in lines:\n",
    "    line = line.replace('Python', 'C')\n",
    "    print(line.rstrip())"
   ]
  },
  {
   "cell_type": "markdown",
   "id": "0921244a",
   "metadata": {},
   "source": [
    "## Question 23\n",
    "\n",
    "**Guest:** Write a program that prompts the user for their name. When they respond, write their name to a file called guest.txt."
   ]
  },
  {
   "cell_type": "code",
   "execution_count": 21,
   "id": "340d8f4b",
   "metadata": {},
   "outputs": [],
   "source": [
    "filename = 'guest.txt'\n",
    "\n",
    "with open(filename, 'w') as file_object:\n",
    "    fname = input('First name: ')\n",
    "    lname = input('Last name: ')\n",
    "    \n",
    "    file_object.write(f'{fname} {lname}\\n')"
   ]
  },
  {
   "cell_type": "markdown",
   "id": "24b72b21",
   "metadata": {},
   "source": [
    "## Question 24\n",
    "\n",
    "**Guest Book:** Write a while loop that prompts users for their name. When they enter their name, print a greeting to the screen and add a line recording their visit in a file called guest_book.txt. Make sure each entry appears on a new line in the file."
   ]
  },
  {
   "cell_type": "code",
   "execution_count": 15,
   "id": "2326c653",
   "metadata": {},
   "outputs": [
    {
     "name": "stdout",
     "output_type": "stream",
     "text": [
      "\n",
      "Please tell me your name: \n",
      "(enter \"q\" at any time to quit)\n",
      "Welcome Changwha!\n",
      "\n",
      "Please tell me your name: \n",
      "(enter \"q\" at any time to quit)\n",
      "Welcome Minji!\n",
      "\n",
      "Please tell me your name: \n",
      "(enter \"q\" at any time to quit)\n",
      "Welcome Hanni!\n",
      "\n",
      "Please tell me your name: \n",
      "(enter \"q\" at any time to quit)\n",
      "Welcome Danielle!\n",
      "\n",
      "Please tell me your name: \n",
      "(enter \"q\" at any time to quit)\n",
      "Welcome Haerin!\n",
      "\n",
      "Please tell me your name: \n",
      "(enter \"q\" at any time to quit)\n",
      "Welcome Hyein!\n",
      "\n",
      "Please tell me your name: \n",
      "(enter \"q\" at any time to quit)\n"
     ]
    }
   ],
   "source": [
    "filename = 'guest_book.txt'\n",
    "\n",
    "with open(filename, 'a') as file_object:\n",
    "    while True:\n",
    "        print('\\nPlease tell me your name: ')\n",
    "        print('(enter \"q\" at any time to quit)')\n",
    "\n",
    "        fname = input('First name: ')\n",
    "        if fname == 'q':\n",
    "            break\n",
    "\n",
    "        lname = input('Last name: ')\n",
    "        if lname == 'q':\n",
    "            break\n",
    "        \n",
    "        print(f'Welcome {fname.title()}!')\n",
    "        file_object.write(f'{fname} {lname}\\n')"
   ]
  },
  {
   "cell_type": "markdown",
   "id": "f3075d32",
   "metadata": {},
   "source": [
    "## Question 25\n",
    "\n",
    "**Programming Poll:** Write a while loop that asks people why they like programming. Each time someone enters a reason, add their reason to a file that stores all the responses."
   ]
  },
  {
   "cell_type": "code",
   "execution_count": 16,
   "id": "042dfb04",
   "metadata": {},
   "outputs": [
    {
     "name": "stdout",
     "output_type": "stream",
     "text": [
      "\n",
      "Please tell me why you like programming: \n",
      "(enter \"q\" at any time to quit)\n",
      "\n",
      "Please tell me why you like programming: \n",
      "(enter \"q\" at any time to quit)\n",
      "\n",
      "Please tell me why you like programming: \n",
      "(enter \"q\" at any time to quit)\n"
     ]
    }
   ],
   "source": [
    "filename = 'poll.txt'\n",
    "\n",
    "with open(filename, 'a') as file_object:\n",
    "    while True:\n",
    "        print('\\nPlease tell me why you like programming: ')\n",
    "        print('(enter \"q\" at any time to quit)')\n",
    "\n",
    "        answer = input('Answer: ')\n",
    "        if answer == 'q':\n",
    "            break\n",
    "        \n",
    "        file_object.write(f'{answer}\\n')"
   ]
  },
  {
   "cell_type": "markdown",
   "id": "ed07a1ca",
   "metadata": {},
   "source": [
    "## Question 26\n",
    "\n",
    "**Addition:** One common problem when prompting for numerical input occurs when people provide text instead of numbers. When you try to convert the input to an int, you’ll get a ValueError. Write a program that prompts for two numbers. Add them together and print the result. Catch the ValueError if either input value is not a number, and print a friendly error message. Test your program by entering two numbers and then by entering some text instead of a number."
   ]
  },
  {
   "cell_type": "code",
   "execution_count": 20,
   "id": "eaf686f8",
   "metadata": {},
   "outputs": [
    {
     "name": "stdout",
     "output_type": "stream",
     "text": [
      "Give me two numbers, and I'll add them together.\n",
      "Enter 'q' to quit.\n",
      "8\n"
     ]
    }
   ],
   "source": [
    "first_number = input(\"\\nFirst number: \")\n",
    "second_number = input(\"Second number: \")\n",
    "try:\n",
    "    answer = int(first_number) + int(second_number)\n",
    "except ValueError:\n",
    "    print('At least one of the input values is not a number')\n",
    "else:\n",
    "    print(answer)"
   ]
  },
  {
   "cell_type": "markdown",
   "id": "09db5341",
   "metadata": {},
   "source": [
    "## Question 27\n",
    "\n",
    "**Addition Calculator:** Wrap your code from Question 26 in a while loop so the user can continue entering numbers even if they make a mistake and enter text instead of a number."
   ]
  },
  {
   "cell_type": "code",
   "execution_count": 24,
   "id": "916c769d",
   "metadata": {},
   "outputs": [
    {
     "name": "stdout",
     "output_type": "stream",
     "text": [
      "Give me two numbers, and I'll add them together.\n",
      "Enter 'q' to quit.\n",
      "At least one of the input values is not a number.\n",
      "Please try it again with numbers.\n",
      "334.5\n",
      "7.0\n"
     ]
    }
   ],
   "source": [
    "print(\"Give me two numbers, and I'll add them together.\")\n",
    "print(\"Enter 'q' to quit.\")\n",
    "\n",
    "while True:\n",
    "    first_number = input(\"\\nFirst number: \")\n",
    "    if first_number == 'q':\n",
    "        break\n",
    "    second_number = input(\"Second number: \")\n",
    "    if second_number == 'q':\n",
    "        break\n",
    "    try:\n",
    "        answer = float(first_number) + float(second_number)\n",
    "    except ValueError:\n",
    "        print('At least one of the input values is not a number.')\n",
    "        print('Please try it again with numbers.')\n",
    "\n",
    "    '''\n",
    "    # deal with all exception error messages\n",
    "    except Exception as e: \n",
    "        print(e) \n",
    "    '''\n",
    "    else:\n",
    "        print(answer)"
   ]
  },
  {
   "cell_type": "markdown",
   "id": "288099a9",
   "metadata": {},
   "source": [
    "## Question 28\n",
    "\n",
    "**Cats and Dogs:** Make two files, _cats.txt_ and _dogs.txt_. Store at least three names of cats in the first file and three names of dogs in the second file. Write a program that tries to read these files and print the contents of the file to the screen. Wrap your code in a `try-except` block to catch the `FileNotFound` error, and print a friendly message if a file is missing. Move one of the files to a different location on your system, and make sure the code in the `except` block executes properly."
   ]
  },
  {
   "cell_type": "code",
   "execution_count": 28,
   "id": "387672f6",
   "metadata": {},
   "outputs": [
    {
     "name": "stdout",
     "output_type": "stream",
     "text": [
      "coon\n",
      "coco\n",
      "candy\n",
      "\n",
      "\n",
      "dogs.txt is missing.\n"
     ]
    }
   ],
   "source": [
    "file_list = ['cats', 'dogs']\n",
    "\n",
    "for f in file_list:\n",
    "    try:\n",
    "        with open(f'{f}.txt') as file_object:\n",
    "            lines = file_object.readlines()\n",
    "\n",
    "        for line in lines:\n",
    "            print(line.rstrip())\n",
    "        print('\\n')\n",
    "\n",
    "    except FileNotFoundError:\n",
    "        print(f'{f}.txt is missing.')"
   ]
  },
  {
   "cell_type": "markdown",
   "id": "e9d28546",
   "metadata": {},
   "source": [
    "## Question 29\n",
    "\n",
    "**Silent Cats and Dogs:** Modify your except block in Question 28 to fail silently if either file is missing."
   ]
  },
  {
   "cell_type": "code",
   "execution_count": 32,
   "id": "2b972722",
   "metadata": {},
   "outputs": [
    {
     "name": "stdout",
     "output_type": "stream",
     "text": [
      "coon\n",
      "coco\n",
      "candy\n",
      "\n",
      "\n",
      "\n"
     ]
    }
   ],
   "source": [
    "file_list = ['cats', 'dogs']\n",
    "\n",
    "for f in file_list:\n",
    "    try:\n",
    "        with open(f'{f}.txt') as file_object:\n",
    "            lines = file_object.readlines()\n",
    "\n",
    "        for line in lines:\n",
    "            print(line.rstrip())\n",
    "        print('\\n')\n",
    "\n",
    "    except FileNotFoundError:\n",
    "        print('')"
   ]
  },
  {
   "cell_type": "markdown",
   "id": "241ffab1",
   "metadata": {},
   "source": [
    "## Question 30\n",
    "\n",
    "**Common Words:** Visit Project Gutenberg (<https://gutenberg.org/>) and find a few texts you’d like to analyze. Download the text files for these works, or copy the raw text from your browser into a text file on your computer. You can use the `count()` method to find out how many times a word or phrase appears in a string. For example, the following code counts the number of times 'row' appears in a string:"
   ]
  },
  {
   "cell_type": "code",
   "execution_count": 33,
   "id": "2a017ac9",
   "metadata": {},
   "outputs": [
    {
     "data": {
      "text/plain": [
       "2"
      ]
     },
     "execution_count": 33,
     "metadata": {},
     "output_type": "execute_result"
    }
   ],
   "source": [
    "line = \"Row, row, row your boat\"\n",
    "line.count('row')"
   ]
  },
  {
   "cell_type": "code",
   "execution_count": 34,
   "id": "41707165",
   "metadata": {},
   "outputs": [
    {
     "data": {
      "text/plain": [
       "3"
      ]
     },
     "execution_count": 34,
     "metadata": {},
     "output_type": "execute_result"
    }
   ],
   "source": [
    "line.lower().count('row')"
   ]
  },
  {
   "cell_type": "markdown",
   "id": "5652cc4d",
   "metadata": {},
   "source": [
    "Notice that converting the string to lowercase using lower() catches all appearances of the word you’re looking for, regardless of how it’s formatted.\n",
    "\n",
    "Write a program that reads the files you found at Project Gutenberg and determines how many times the word `the` appears in each text. This will be an approximation because it will also count words such as `then` and `there`. Try counting `the`, with a space in the string, and see how much lower your count is."
   ]
  },
  {
   "cell_type": "code",
   "execution_count": 39,
   "id": "55ab2af3",
   "metadata": {},
   "outputs": [
    {
     "name": "stdout",
     "output_type": "stream",
     "text": [
      "9159\n",
      "5853\n",
      "5308\n"
     ]
    }
   ],
   "source": [
    "with open('pg70329.txt') as file_object:\n",
    "    contents = file_object.read()\n",
    "\n",
    "print(contents.lower().count('the'))\n",
    "print(contents.lower().count('the '))\n",
    "print(contents.lower().count(' the '))"
   ]
  }
 ],
 "metadata": {
  "kernelspec": {
   "display_name": "Python 3",
   "language": "python",
   "name": "python3"
  },
  "language_info": {
   "codemirror_mode": {
    "name": "ipython",
    "version": 3
   },
   "file_extension": ".py",
   "mimetype": "text/x-python",
   "name": "python",
   "nbconvert_exporter": "python",
   "pygments_lexer": "ipython3",
   "version": "3.9.16"
  }
 },
 "nbformat": 4,
 "nbformat_minor": 5
}
